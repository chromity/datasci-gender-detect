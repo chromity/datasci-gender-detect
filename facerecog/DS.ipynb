{
 "cells": [
  {
   "cell_type": "code",
   "execution_count": 1,
   "metadata": {},
   "outputs": [],
   "source": [
    "import cv2\n",
    "import sys\n",
    "import os\n",
    "import timeit\n",
    "import face_recognition as fr\n",
    "import pickle\n",
    "import numpy as np\n",
    "from skimage import io as io\n",
    "from tqdm import tqdm\n",
    "from sklearn import datasets, svm, metrics\n",
    "from matplotlib import pyplot as plt\n",
    "from random import randint\n",
    "import random\n",
    "%matplotlib inline\n",
    "\n",
    "CASCADE=\"Face_cascade.xml\"\n",
    "FACE_CASCADE=cv2.CascadeClassifier(CASCADE)"
   ]
  },
  {
   "cell_type": "code",
   "execution_count": 2,
   "metadata": {},
   "outputs": [],
   "source": [
    "def detect_faces(image_path):\n",
    "\n",
    "    image=cv2.imread(image_path)\n",
    "    image_grey=cv2.cvtColor(image,cv2.COLOR_BGR2GRAY)\n",
    "\n",
    "    faces = FACE_CASCADE.detectMultiScale(image_grey,scaleFactor=1.16,minNeighbors=5,minSize=(25,25),flags=0)\n",
    "\n",
    "    faces_path = []\n",
    "    for x,y,w,h in faces:\n",
    "        sub_img=image[y-10:y+h+10,x-10:x+w+10]\n",
    "        os.chdir(\"extracted\")\n",
    "        path = str(randint(0,10000))+\".jpg\"\n",
    "        cv2.imwrite(path, sub_img)\n",
    "        \n",
    "        faces_path.append(\"./extracted/\" + path)\n",
    "        \n",
    "        os.chdir(\"../\")\n",
    "        cv2.rectangle(image,(x,y),(x+w,y+h),(255, 255,0),2)\n",
    "        \n",
    "    return faces_path\n"
   ]
  },
  {
   "cell_type": "code",
   "execution_count": 3,
   "metadata": {},
   "outputs": [],
   "source": [
    "def initialize():\n",
    "    with open('./gender_data.pkl', 'rb') as f:\n",
    "        gender_dataset_raw = pickle.load(f)\n",
    "\n",
    "    random.shuffle(gender_dataset_raw)\n",
    "    \n",
    "    embedding_list_train = list()\n",
    "    gender_label_list_train = list()\n",
    "\n",
    "    embedding_list_test = list()\n",
    "    gender_label_list_test = list()\n",
    "\n",
    "    for emb, label in gender_dataset_raw[:248]:\n",
    "        embedding_list_train.append(emb)\n",
    "        gender_label_list_train.append(label)\n",
    "\n",
    "    for emb, label in gender_dataset_raw[:248]:\n",
    "        embedding_list_test.append(emb)\n",
    "        gender_label_list_test.append(label)\n",
    "        \n",
    "    classifier = svm.SVC(gamma='auto', kernel='rbf', C=20)\n",
    "    classifier.fit(embedding_list_train, gender_label_list_train)\n",
    "\n",
    "    expected = gender_label_list_test\n",
    "    predicted = classifier.predict(embedding_list_test)\n",
    "    \n",
    "    return classifier"
   ]
  },
  {
   "cell_type": "code",
   "execution_count": 4,
   "metadata": {},
   "outputs": [],
   "source": [
    "def detect_gender(image_path, classifier):\n",
    "    img = io.imread(image_path)\n",
    "    img_encoded = fr.face_encodings(img)[0]\n",
    "    \n",
    "    return classifier.predict([img_encoded])"
   ]
  },
  {
   "cell_type": "code",
   "execution_count": 9,
   "metadata": {},
   "outputs": [],
   "source": [
    "def start(classifier):\n",
    "    temp_path = \"./alon.jpg\"\n",
    "    \n",
    "    faces_path = detect_faces(temp_path)\n",
    "    \n",
    "    print(\"log: \", faces_path)\n",
    "    \n",
    "    for face in faces_path:\n",
    "        result = detect_gender(face)\n",
    "        \n",
    "        print(result)"
   ]
  },
  {
   "cell_type": "code",
   "execution_count": 10,
   "metadata": {},
   "outputs": [],
   "source": [
    "classifier = initialize()"
   ]
  },
  {
   "cell_type": "code",
   "execution_count": 11,
   "metadata": {},
   "outputs": [
    {
     "name": "stdout",
     "output_type": "stream",
     "text": [
      "log:  ['./extracted/9582.jpg']\n",
      "['F']\n"
     ]
    }
   ],
   "source": [
    "start(classifier)"
   ]
  },
  {
   "cell_type": "code",
   "execution_count": null,
   "metadata": {},
   "outputs": [],
   "source": []
  }
 ],
 "metadata": {
  "kernelspec": {
   "display_name": "Python 3",
   "language": "python",
   "name": "python3"
  },
  "language_info": {
   "codemirror_mode": {
    "name": "ipython",
    "version": 3
   },
   "file_extension": ".py",
   "mimetype": "text/x-python",
   "name": "python",
   "nbconvert_exporter": "python",
   "pygments_lexer": "ipython3",
   "version": "3.6.8"
  }
 },
 "nbformat": 4,
 "nbformat_minor": 2
}
