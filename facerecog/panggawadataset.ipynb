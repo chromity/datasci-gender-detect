{
 "cells": [
  {
   "cell_type": "code",
   "execution_count": 4,
   "metadata": {},
   "outputs": [
    {
     "name": "stdout",
     "output_type": "stream",
     "text": [
      "Read dataset..., image file name format: 25_F_0.jpg, 25 is age, f is female\n"
     ]
    },
    {
     "name": "stderr",
     "output_type": "stream",
     "text": [
      "100%|██████████| 496/496 [07:32<00:00,  1.04it/s]\n"
     ]
    },
    {
     "name": "stdout",
     "output_type": "stream",
     "text": [
      "Saving as a pkl file\n",
      "Finished\n"
     ]
    }
   ],
   "source": [
    "import os\n",
    "import timeit\n",
    "import cv2\n",
    "from skimage import io as io\n",
    "import face_recognition as fr\n",
    "import numpy as np\n",
    "import pickle\n",
    "from tqdm import tqdm\n",
    "from sklearn import datasets, svm, metrics\n",
    "\n",
    "def main():\n",
    "    print('Read dataset..., image file name format: 25_F_0.jpg, 25 is age, f is female')\n",
    "    gender_data = list()\n",
    "    for fn in tqdm(os.listdir('asiandata')):\n",
    "        try:\n",
    "            if fn.split('.')[1] == 'jpg':\n",
    "                # print('Processing {}'.format(fn))\n",
    "                gender_label = fn.split('_')[1]\n",
    "                img = io.imread(os.path.join('asiandata', fn))\n",
    "                face_embedding = fr.face_encodings(img)\n",
    "                if len(face_embedding) != 1:\n",
    "                    # print('Above one face in an image, skip..')\n",
    "                    continue\n",
    "                single_data = list()\n",
    "                single_data.append(face_embedding[0])\n",
    "                single_data.append(gender_label)\n",
    "                gender_data.append(single_data)\n",
    "            else:\n",
    "                continue\n",
    "        except:\n",
    "            continue\n",
    "\n",
    "    print('Saving as a pkl file')\n",
    "    with open('gender_data.pkl','wb') as f:\n",
    "        pickle.dump(gender_data, f)\n",
    "    print('Finished')\n",
    "\n",
    "\n",
    "if __name__ == '__main__':\n",
    "    main()"
   ]
  },
  {
   "cell_type": "code",
   "execution_count": null,
   "metadata": {},
   "outputs": [],
   "source": []
  }
 ],
 "metadata": {
  "kernelspec": {
   "display_name": "Python 3",
   "language": "python",
   "name": "python3"
  },
  "language_info": {
   "codemirror_mode": {
    "name": "ipython",
    "version": 3
   },
   "file_extension": ".py",
   "mimetype": "text/x-python",
   "name": "python",
   "nbconvert_exporter": "python",
   "pygments_lexer": "ipython3",
   "version": "3.7.1"
  }
 },
 "nbformat": 4,
 "nbformat_minor": 2
}
