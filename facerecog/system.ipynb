{
 "cells": [
  {
   "cell_type": "code",
   "execution_count": 1,
   "metadata": {},
   "outputs": [],
   "source": [
    "from random import randint\n",
    "import cv2\n",
    "import sys\n",
    "import os\n",
    "      \n",
    "CASCADE=\"Face_cascade.xml\"\n",
    "FACE_CASCADE=cv2.CascadeClassifier(CASCADE)\n",
    "\n",
    "def detect_faces(image_path):\n",
    "\n",
    "\timage=cv2.imread(image_path)\n",
    "\timage_grey=cv2.cvtColor(image,cv2.COLOR_BGR2GRAY)\n",
    "\n",
    "\tfaces = FACE_CASCADE.detectMultiScale(image_grey,scaleFactor=1.16,minNeighbors=5,minSize=(25,25),flags=0)\n",
    "\n",
    "\tfor x,y,w,h in faces:\n",
    "\t    sub_img=image[y-10:y+h+10,x-10:x+w+10]\n",
    "\t    os.chdir(\"extracted\")\n",
    "\t    cv2.imwrite(str(randint(0,10000))+\".jpg\",sub_img)\n",
    "\t    os.chdir(\"../\")\n",
    "\t    cv2.rectangle(image,(x,y),(x+w,y+h),(255, 255,0),2)\n",
    "\n",
    "\tcv2.imshow(\"Faces Found\",image)\n",
    "\tif (cv2.waitKey(0) & 0xFF == ord('q')) or (cv2.waitKey(0) & 0xFF == ord('Q')):\n",
    "\t\tcv2.destroyAllWindows()\n"
   ]
  },
  {
   "cell_type": "code",
   "execution_count": null,
   "metadata": {},
   "outputs": [],
   "source": [
    "detect_faces(\"./alon.jpg\")"
   ]
  },
  {
   "cell_type": "code",
   "execution_count": null,
   "metadata": {},
   "outputs": [],
   "source": []
  }
 ],
 "metadata": {
  "kernelspec": {
   "display_name": "Python 3",
   "language": "python",
   "name": "python3"
  },
  "language_info": {
   "codemirror_mode": {
    "name": "ipython",
    "version": 3
   },
   "file_extension": ".py",
   "mimetype": "text/x-python",
   "name": "python",
   "nbconvert_exporter": "python",
   "pygments_lexer": "ipython3",
   "version": "3.6.8"
  }
 },
 "nbformat": 4,
 "nbformat_minor": 2
}
